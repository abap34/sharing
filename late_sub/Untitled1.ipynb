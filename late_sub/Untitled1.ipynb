{
 "cells": [
  {
   "cell_type": "code",
   "execution_count": 1,
   "metadata": {},
   "outputs": [],
   "source": [
    "import tqdm\n",
    "import numpy\n",
    "import matplotlib.pyplot as plt\n",
    "import scipy.signal"
   ]
  },
  {
   "cell_type": "code",
   "execution_count": 2,
   "metadata": {},
   "outputs": [],
   "source": [
    "def read_data(data_contain_path):\n",
    "    train = pd.read_csv(data_contain_path + '/train.csv')\n",
    "\n",
    "    test = pd.read_csv(data_contain_path + '/test.csv')\n",
    "    train[\"is_train\"] = True\n",
    "    test[\"is_train\"] = False\n",
    "    submit = pd.read_csv(data_contain_path + '/sample_submission.csv')\n",
    "\n",
    "    return train, test, submit\n",
    "\n",
    "\n",
    "def read_wave(paths):\n",
    "    X = []\n",
    "    for p in tqdm.tqdm(paths):\n",
    "        X.append(np.load(p))\n",
    "    return np.stack(X)"
   ]
  },
  {
   "cell_type": "code",
   "execution_count": 3,
   "metadata": {},
   "outputs": [
    {
     "name": "stderr",
     "output_type": "stream",
     "text": [
      "100%|██████████| 2000/2000 [00:02<00:00, 815.49it/s]\n",
      "100%|██████████| 8000/8000 [00:08<00:00, 908.27it/s]\n"
     ]
    }
   ],
   "source": [
    "train, test, submit = read_data('../data')\n",
    "\n",
    "train_wave = read_wave(\"../data/ecg/\" + train[\"Id\"] + \".npy\")\n",
    "test_wave = read_wave(\"../data/ecg/\" + test[\"Id\"] + \".npy\")\n",
    "train_y = train[\"target\"]\n",
    "\n",
    "train[\"sex\"] = train[\"sex\"].replace({\"male\": 0, \"female\": 1})\n",
    "\n",
    "train_x = [\n",
    "    train_wave, \n",
    "    train[[\"sex\", \"age\"]]\n",
    "]"
   ]
  },
  {
   "cell_type": "code",
   "execution_count": 5,
   "metadata": {},
   "outputs": [],
   "source": [
    "import tensorflow as tf"
   ]
  },
  {
   "cell_type": "code",
   "execution_count": 7,
   "metadata": {},
   "outputs": [],
   "source": [
    "model = tf.keras.applications.EfficientNetB0()"
   ]
  },
  {
   "cell_type": "code",
   "execution_count": null,
   "metadata": {},
   "outputs": [],
   "source": []
  }
 ],
 "metadata": {
  "kernelspec": {
   "display_name": "Python 3",
   "language": "python",
   "name": "python3"
  },
  "language_info": {
   "codemirror_mode": {
    "name": "ipython",
    "version": 3
   },
   "file_extension": ".py",
   "mimetype": "text/x-python",
   "name": "python",
   "nbconvert_exporter": "python",
   "pygments_lexer": "ipython3",
   "version": "3.7.2"
  },
  "widgets": {
   "application/vnd.jupyter.widget-state+json": {
    "state": {},
    "version_major": 2,
    "version_minor": 0
   }
  }
 },
 "nbformat": 4,
 "nbformat_minor": 4
}
