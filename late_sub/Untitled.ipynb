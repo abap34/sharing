{
 "cells": [
  {
   "cell_type": "code",
   "execution_count": 19,
   "metadata": {},
   "outputs": [],
   "source": [
    "import tqdm\n",
    "import numpy"
   ]
  },
  {
   "cell_type": "code",
   "execution_count": 20,
   "metadata": {},
   "outputs": [],
   "source": [
    "def read_data(data_contain_path):\n",
    "    train = pd.read_csv(data_contain_path + '/train.csv')\n",
    "\n",
    "    test = pd.read_csv(data_contain_path + '/test.csv')\n",
    "    train[\"is_train\"] = True\n",
    "    test[\"is_train\"] = False\n",
    "    submit = pd.read_csv(data_contain_path + '/sample_submission.csv')\n",
    "\n",
    "    return train, test, submit\n",
    "\n",
    "\n",
    "def read_wave(paths):\n",
    "    X = []\n",
    "    for p in tqdm.tqdm(paths):\n",
    "        X.append(np.load(p))\n",
    "    return np.stack(X)"
   ]
  },
  {
   "cell_type": "code",
   "execution_count": 21,
   "metadata": {},
   "outputs": [],
   "source": [
    "train, test, submit = read_data('../data')"
   ]
  },
  {
   "cell_type": "code",
   "execution_count": 22,
   "metadata": {},
   "outputs": [
    {
     "name": "stderr",
     "output_type": "stream",
     "text": [
      "100%|██████████| 2000/2000 [00:02<00:00, 722.49it/s]\n"
     ]
    }
   ],
   "source": [
    "train_wave = read_wave(\"../data/ecg/\" + train[\"Id\"] + \".npy\")\n",
    "train_y = train[\"target\"]\n",
    "\n",
    "train[\"sex\"] = train[\"sex\"].replace({\"male\": 0, \"female\": 1})\n",
    "\n",
    "train_x = [\n",
    "    train_wave, \n",
    "    train[[\"sex\", \"age\"]]\n",
    "]"
   ]
  },
  {
   "cell_type": "code",
   "execution_count": 26,
   "metadata": {},
   "outputs": [
    {
     "data": {
      "text/plain": [
       "(800, 12)"
      ]
     },
     "execution_count": 26,
     "metadata": {},
     "output_type": "execute_result"
    }
   ],
   "source": [
    "train_wave[0].shape"
   ]
  },
  {
   "cell_type": "code",
   "execution_count": 27,
   "metadata": {},
   "outputs": [],
   "source": [
    "import scipy"
   ]
  },
  {
   "cell_type": "code",
   "execution_count": 35,
   "metadata": {},
   "outputs": [],
   "source": [
    "import scipy.signal as signal"
   ]
  },
  {
   "cell_type": "code",
   "execution_count": 33,
   "metadata": {},
   "outputs": [],
   "source": [
    "sample = train_wave[0][:, 0]"
   ]
  },
  {
   "cell_type": "code",
   "execution_count": 32,
   "metadata": {},
   "outputs": [],
   "source": [
    "import matplotlib.pyplot as plt"
   ]
  },
  {
   "cell_type": "code",
   "execution_count": 34,
   "metadata": {},
   "outputs": [
    {
     "data": {
      "text/plain": [
       "[<matplotlib.lines.Line2D at 0x7fe03fcba470>]"
      ]
     },
     "execution_count": 34,
     "metadata": {},
     "output_type": "execute_result"
    },
    {
     "data": {
      "image/png": "[encoded data removed]",
      "text/plain": [
       "<Figure size 432x288 with 1 Axes>"
      ]
     },
     "metadata": {
      "needs_background": "light"
     },
     "output_type": "display_data"
    }
   ],
   "source": [
    "plt.plot(sample)"
   ]
  },
  {
   "cell_type": "code",
   "execution_count": 127,
   "metadata": {},
   "outputs": [],
   "source": [
    "f, t, Sxx = signal.stft(sample)"
   ]
  },
  {
   "cell_type": "code",
   "execution_count": 128,
   "metadata": {},
   "outputs": [
    {
     "data": {
      "text/plain": [
       "(129,)"
      ]
     },
     "execution_count": 128,
     "metadata": {},
     "output_type": "execute_result"
    }
   ],
   "source": [
    "f.shape"
   ]
  },
  {
   "cell_type": "code",
   "execution_count": 129,
   "metadata": {},
   "outputs": [
    {
     "data": {
      "text/plain": [
       "(8,)"
      ]
     },
     "execution_count": 129,
     "metadata": {},
     "output_type": "execute_result"
    }
   ],
   "source": [
    "t.shape"
   ]
  },
  {
   "cell_type": "code",
   "execution_count": 130,
   "metadata": {},
   "outputs": [
    {
     "data": {
      "text/plain": [
       "(129, 8)"
      ]
     },
     "execution_count": 130,
     "metadata": {},
     "output_type": "execute_result"
    }
   ],
   "source": [
    "Sxx.shape"
   ]
  },
  {
   "cell_type": "code",
   "execution_count": 151,
   "metadata": {},
   "outputs": [
    {
     "data": {
      "text/plain": [
       "(array([[5.31043895e-02, 1.58861955e-02, 2.38728231e-02, 5.28202351e-03,\n",
       "         4.39963505e-02],\n",
       "        [5.16863190e-02, 1.71916200e-02, 5.06994493e-02, 4.93930130e-03,\n",
       "         5.76994387e-02],\n",
       "        [1.00469683e-01, 8.48901182e-02, 8.90428611e-02, 1.10446307e-01,\n",
       "         1.15794519e-01],\n",
       "        [1.59792321e-01, 1.66042751e-01, 1.59066761e-01, 1.63952282e-01,\n",
       "         1.77967183e-01],\n",
       "        [4.61142717e-02, 6.54068724e-04, 4.56328461e-02, 3.90534672e-02,\n",
       "         8.49092166e-04],\n",
       "        [1.58558420e-01, 1.46971479e-01, 1.47599965e-01, 1.44638602e-01,\n",
       "         1.69819514e-01],\n",
       "        [1.02075274e-01, 9.72169662e-02, 9.77050693e-02, 1.07144998e-01,\n",
       "         1.12480474e-01],\n",
       "        [5.25589389e-02, 1.39282748e-02, 4.52551319e-02, 3.61432486e-02,\n",
       "         1.70240561e-02],\n",
       "        [1.44042454e-01, 1.32068952e-01, 1.39070660e-01, 1.31247910e-01,\n",
       "         1.61773579e-01],\n",
       "        [6.80422994e-02, 2.38440606e-02, 5.42402306e-02, 4.67799761e-02,\n",
       "         3.29288065e-02],\n",
       "        [1.23659185e-01, 6.98904227e-02, 1.05382747e-01, 7.95756320e-02,\n",
       "         8.19244265e-02],\n",
       "        [1.29708645e-01, 1.46584987e-01, 1.57349676e-01, 1.62626463e-01,\n",
       "         1.83775319e-01],\n",
       "        [4.61411244e-02, 3.62265832e-04, 4.83845657e-02, 4.31977886e-02,\n",
       "         8.67661686e-04],\n",
       "        [2.17283181e-01, 1.72247147e-01, 1.75134192e-01, 1.92613058e-01,\n",
       "         2.09754655e-01],\n",
       "        [1.39954832e-01, 1.20727769e-01, 1.38217971e-01, 1.57009159e-01,\n",
       "         1.81551299e-01],\n",
       "        [8.57295900e-02, 2.30156747e-02, 7.38995974e-02, 4.43973674e-02,\n",
       "         1.32289442e-02],\n",
       "        [1.93826187e-01, 2.16482169e-01, 2.20710104e-01, 2.17274810e-01,\n",
       "         2.52631292e-01],\n",
       "        [5.22906507e-02, 5.18907064e-02, 9.22545077e-02, 9.06349150e-02,\n",
       "         9.04897026e-02],\n",
       "        [1.54052005e-01, 7.92599904e-02, 1.15657138e-01, 1.16029614e-01,\n",
       "         6.51179691e-02],\n",
       "        [1.76535727e-01, 1.85144505e-01, 2.03670688e-01, 2.19426262e-01,\n",
       "         2.27163630e-01],\n",
       "        [3.49616992e-02, 4.97200245e-03, 5.19241312e-02, 4.04906136e-02,\n",
       "         1.31698856e-02],\n",
       "        [1.18100324e-01, 1.12448178e-01, 1.00507747e-01, 1.04284600e-01,\n",
       "         1.10534372e-01],\n",
       "        [6.51129155e-02, 9.55140289e-02, 8.15604770e-02, 1.08663839e-01,\n",
       "         1.10739832e-01],\n",
       "        [5.51808570e-02, 5.47412257e-03, 2.19506978e-02, 2.67351623e-02,\n",
       "         3.60709492e-03],\n",
       "        [1.15586965e-01, 1.15353104e-01, 9.35409979e-02, 9.03895833e-02,\n",
       "         1.15401143e-01],\n",
       "        [3.00185247e-02, 2.72938109e-02, 4.18848587e-02, 4.04328378e-02,\n",
       "         4.55967974e-02],\n",
       "        [6.94399288e-02, 4.57505946e-02, 5.25192300e-02, 3.78124645e-02,\n",
       "         3.24962358e-02],\n",
       "        [7.58216269e-02, 1.05178799e-01, 1.06118380e-01, 1.00073232e-01,\n",
       "         1.36732141e-01],\n",
       "        [3.09718556e-02, 2.03903546e-03, 2.81000620e-02, 3.52796575e-02,\n",
       "         2.46972124e-02],\n",
       "        [1.12149544e-01, 7.83177397e-02, 7.87354009e-02, 8.97386423e-02,\n",
       "         4.65892998e-02],\n",
       "        [5.44850822e-02, 6.90427169e-02, 7.89883199e-02, 7.60777660e-02,\n",
       "         8.17988982e-02],\n",
       "        [5.60456204e-02, 6.63365936e-03, 2.75975762e-02, 2.54599911e-02,\n",
       "         1.53164779e-04],\n",
       "        [1.07053141e-01, 9.12695120e-02, 7.80568664e-02, 8.92857910e-02,\n",
       "         9.11251067e-02],\n",
       "        [2.82372798e-02, 2.46326095e-02, 4.12036700e-02, 4.16042257e-02,\n",
       "         5.21391421e-02],\n",
       "        [6.28756471e-02, 2.71522776e-02, 3.94331889e-02, 3.20531183e-02,\n",
       "         1.41880250e-02],\n",
       "        [6.19388303e-02, 7.87061072e-02, 7.27910385e-02, 9.15067315e-02,\n",
       "         9.27620415e-02],\n",
       "        [2.07144392e-02, 6.09321738e-03, 2.09278471e-02, 2.94522885e-02,\n",
       "         1.34151854e-02],\n",
       "        [5.40953692e-02, 3.64168723e-02, 4.41900360e-02, 4.49087572e-02,\n",
       "         4.40852854e-02],\n",
       "        [1.87696633e-02, 4.31048746e-02, 4.53999355e-02, 5.78024656e-02,\n",
       "         7.33823578e-02],\n",
       "        [2.29293980e-02, 1.96990474e-03, 1.00928012e-02, 1.32660215e-02,\n",
       "         5.84152387e-04],\n",
       "        [4.95346830e-02, 5.60097707e-02, 4.33314846e-02, 4.99459520e-02,\n",
       "         5.04445014e-02],\n",
       "        [9.89423098e-03, 1.65127495e-02, 2.34468011e-02, 2.35571411e-02,\n",
       "         3.36147106e-02],\n",
       "        [3.17383527e-02, 1.74324232e-02, 1.32444916e-02, 1.49903077e-02,\n",
       "         7.63091681e-03],\n",
       "        [2.73595287e-02, 5.28329611e-02, 3.78895030e-02, 5.17156753e-02,\n",
       "         5.74960583e-02],\n",
       "        [1.15906154e-02, 3.78445956e-03, 1.15316865e-02, 1.39394143e-02,\n",
       "         7.86389739e-03],\n",
       "        [4.46611426e-02, 2.74094912e-02, 2.78577209e-02, 2.30451491e-02,\n",
       "         2.69216220e-02],\n",
       "        [2.03199412e-02, 3.07790597e-02, 3.60923707e-02, 3.23206024e-02,\n",
       "         4.47507697e-02],\n",
       "        [1.93509206e-02, 5.06678124e-04, 1.21140808e-02, 4.27993545e-03,\n",
       "         1.03900749e-03],\n",
       "        [3.01870867e-02, 3.15534220e-02, 3.25706935e-02, 2.23959136e-02,\n",
       "         2.50115969e-02],\n",
       "        [6.29869006e-03, 1.54463539e-02, 2.06291741e-02, 1.45386977e-02,\n",
       "         1.86004282e-02],\n",
       "        [1.93302912e-02, 3.89305143e-03, 1.36641498e-02, 7.54052746e-03,\n",
       "         2.93346372e-03],\n",
       "        [1.46268710e-02, 2.38032666e-02, 3.07798552e-02, 2.41445812e-02,\n",
       "         3.34384101e-02],\n",
       "        [9.62815008e-03, 2.67146475e-03, 8.37784585e-03, 4.53443244e-03,\n",
       "         1.13884164e-02],\n",
       "        [2.21025060e-02, 1.67045043e-02, 1.65190677e-02, 1.19364373e-02,\n",
       "         7.59403543e-03],\n",
       "        [4.95457695e-03, 2.72318351e-02, 2.08057230e-02, 2.11356633e-02,\n",
       "         2.59708555e-02],\n",
       "        [1.20932159e-02, 5.48267503e-04, 7.33491445e-03, 4.24044826e-03,\n",
       "         1.38634851e-03],\n",
       "        [1.59988347e-02, 1.74061049e-02, 1.95264301e-02, 1.59855991e-02,\n",
       "         2.34126639e-02],\n",
       "        [3.93970577e-03, 1.27015012e-02, 1.10600932e-02, 1.20245742e-02,\n",
       "         2.01932799e-02],\n",
       "        [1.87298121e-02, 2.03742416e-03, 4.61321558e-03, 5.08174041e-03,\n",
       "         6.47189152e-04],\n",
       "        [1.03616716e-02, 1.70662188e-02, 1.14728177e-02, 1.99120178e-02,\n",
       "         2.06233581e-02],\n",
       "        [4.67094291e-03, 3.06317389e-03, 2.76953980e-03, 6.62940008e-03,\n",
       "         8.16201590e-03],\n",
       "        [1.59274118e-02, 5.72992600e-03, 5.95923896e-03, 7.04585888e-03,\n",
       "         2.92764051e-03],\n",
       "        [5.73480724e-03, 7.55463816e-03, 1.13828349e-02, 1.38068099e-02,\n",
       "         1.22520115e-02],\n",
       "        [7.67068965e-03, 3.44527837e-04, 3.89883273e-03, 3.83398699e-03,\n",
       "         7.45718019e-04],\n",
       "        [7.61336353e-03, 1.18687007e-02, 9.46411484e-03, 9.10972112e-03,\n",
       "         7.57635314e-03],\n",
       "        [8.63831146e-04, 5.65750012e-03, 7.58967466e-03, 6.98802241e-03,\n",
       "         1.06012204e-02],\n",
       "        [5.40967767e-03, 1.96529955e-03, 2.26116458e-03, 1.45036005e-03,\n",
       "         5.21396805e-05],\n",
       "        [4.14524667e-03, 9.82932349e-03, 7.39549110e-03, 6.45179558e-03,\n",
       "         9.04509981e-03],\n",
       "        [3.89648098e-03, 1.61219675e-03, 2.94163358e-03, 2.61685185e-03,\n",
       "         5.01762965e-03],\n",
       "        [8.92925218e-03, 3.86591878e-03, 4.16923487e-03, 4.65529876e-03,\n",
       "         9.11465963e-04],\n",
       "        [3.45709026e-03, 6.72087695e-03, 9.04912092e-03, 6.92724825e-03,\n",
       "         7.98291287e-03],\n",
       "        [5.78252772e-03, 1.40153394e-04, 3.06906180e-03, 8.50292598e-04,\n",
       "         1.72657913e-03],\n",
       "        [5.14184056e-03, 3.49028313e-03, 4.52009936e-03, 3.00869778e-03,\n",
       "         3.43098000e-03],\n",
       "        [8.55432208e-04, 2.16369190e-03, 3.95549297e-03, 2.63987441e-03,\n",
       "         6.48494172e-03],\n",
       "        [3.65573318e-03, 6.98465114e-04, 2.01455003e-03, 4.85117975e-04,\n",
       "         2.01298027e-04],\n",
       "        [2.56497665e-03, 4.79472815e-03, 4.19578719e-03, 4.15124848e-03,\n",
       "         3.80976438e-03],\n",
       "        [1.60599567e-03, 1.09166018e-03, 1.69048821e-03, 3.01147394e-03,\n",
       "         2.13971176e-03],\n",
       "        [4.14977408e-03, 1.82350351e-03, 3.41936651e-03, 2.10678411e-03,\n",
       "         6.08846187e-04],\n",
       "        [8.39268633e-04, 3.68810776e-03, 5.72789892e-03, 4.83358098e-03,\n",
       "         2.96225971e-03],\n",
       "        [2.94324674e-03, 1.19787499e-04, 1.46612697e-03, 1.78221382e-03,\n",
       "         1.58919711e-04],\n",
       "        [2.67218306e-03, 5.56812522e-03, 2.24292904e-03, 2.17348157e-03,\n",
       "         2.20241851e-03],\n",
       "        [3.46654630e-04, 3.27783448e-03, 1.54826856e-03, 2.86982470e-03,\n",
       "         3.15025553e-03],\n",
       "        [2.73800208e-03, 5.03286628e-04, 4.01695859e-04, 8.54619192e-04,\n",
       "         7.35395090e-05],\n",
       "        [1.09675753e-03, 3.51034455e-03, 2.53236092e-03, 3.57676034e-03,\n",
       "         3.04425646e-03],\n",
       "        [1.07480451e-03, 6.08268268e-04, 1.69710814e-03, 1.88904103e-03,\n",
       "         3.03994372e-03],\n",
       "        [3.04330071e-03, 2.09533478e-03, 1.75969038e-03, 1.08615066e-03,\n",
       "         1.73504987e-04],\n",
       "        [5.91581024e-04, 3.33500421e-03, 2.48158253e-03, 3.14662407e-03,\n",
       "         2.84858087e-03],\n",
       "        [1.93703910e-03, 4.66156952e-05, 3.67973966e-04, 7.94619190e-04,\n",
       "         5.21951312e-04],\n",
       "        [1.71503979e-03, 1.97456857e-03, 8.36898852e-04, 7.90733955e-04,\n",
       "         1.19377913e-03],\n",
       "        [7.37344515e-04, 1.64781509e-03, 1.00553370e-03, 1.40917233e-03,\n",
       "         2.23290389e-03],\n",
       "        [1.72447226e-03, 2.13255701e-04, 4.76334565e-04, 5.63992141e-04,\n",
       "         2.51061796e-04],\n",
       "        [2.35044763e-04, 2.80624535e-03, 1.84449228e-03, 1.49131161e-03,\n",
       "         8.15889615e-04],\n",
       "        [5.80625470e-04, 1.24049688e-03, 7.68630406e-04, 1.41837897e-03,\n",
       "         6.09959789e-04],\n",
       "        [1.44399154e-03, 5.60100468e-04, 7.30021735e-04, 1.02013956e-03,\n",
       "         4.35581425e-04],\n",
       "        [2.18118720e-04, 2.55411394e-03, 1.96163716e-03, 1.47770293e-03,\n",
       "         1.72482211e-03],\n",
       "        [1.40624691e-03, 2.35148003e-04, 4.94388656e-04, 4.02531209e-04,\n",
       "         4.77053670e-04],\n",
       "        [9.10567139e-04, 1.64930833e-03, 3.81448388e-04, 3.09703307e-04,\n",
       "         2.44669978e-04],\n",
       "        [4.03877374e-04, 1.56644440e-03, 8.70674180e-04, 3.29074963e-04,\n",
       "         7.46416061e-04],\n",
       "        [1.64785341e-03, 9.58746207e-05, 2.51883893e-04, 2.69571735e-04,\n",
       "         4.86869697e-05],\n",
       "        [3.19004283e-04, 1.70722399e-03, 5.50110249e-04, 1.51142544e-03,\n",
       "         8.51511092e-04],\n",
       "        [6.92869605e-04, 5.81380910e-04, 3.23855906e-04, 1.10827885e-03,\n",
       "         1.08669378e-03],\n",
       "        [1.26523079e-03, 3.29916325e-04, 8.17458762e-05, 1.37323902e-04,\n",
       "         4.27826682e-05],\n",
       "        [1.89167883e-04, 1.13450859e-03, 2.93164096e-04, 6.36240172e-04,\n",
       "         1.37990930e-03],\n",
       "        [1.51903950e-04, 3.98634673e-04, 4.73256406e-05, 1.40688299e-04,\n",
       "         3.60456112e-04],\n",
       "        [5.41804347e-05, 3.15471913e-05, 1.91887170e-04, 2.26357790e-04,\n",
       "         4.75592488e-04],\n",
       "        [1.25711390e-04, 1.96430365e-04, 3.18842060e-04, 6.04502575e-04,\n",
       "         7.54917516e-04],\n",
       "        [1.76155517e-04, 2.65794202e-05, 9.73867516e-05, 1.78394278e-04,\n",
       "         6.66704073e-05],\n",
       "        [3.97062237e-05, 3.29608611e-04, 4.31013321e-04, 6.89001513e-04,\n",
       "         2.15839804e-04],\n",
       "        [1.19029071e-04, 2.07590551e-04, 4.21969067e-04, 7.09462296e-04,\n",
       "         4.68222348e-05],\n",
       "        [1.76619820e-04, 1.91117731e-05, 1.47391300e-04, 1.72755441e-04,\n",
       "         8.29409103e-05],\n",
       "        [1.10296269e-04, 3.70982085e-05, 3.55865019e-04, 1.86008772e-05,\n",
       "         1.71842090e-04],\n",
       "        [1.42610001e-04, 3.27309243e-06, 3.29376061e-04, 2.70368164e-06,\n",
       "         5.38800704e-05],\n",
       "        [1.09843924e-04, 7.87686404e-05, 1.19003147e-04, 2.19221005e-05,\n",
       "         3.92921694e-05],\n",
       "        [7.23970564e-05, 2.74163600e-05, 1.30871728e-04, 5.17307360e-05,\n",
       "         1.01533749e-04],\n",
       "        [9.54337319e-05, 8.45449274e-06, 7.65648770e-05, 3.69983840e-05,\n",
       "         2.63898113e-05],\n",
       "        [3.67350375e-05, 1.47358603e-05, 3.31272316e-05, 4.72052820e-05,\n",
       "         8.75938370e-06],\n",
       "        [1.01019165e-05, 9.17701765e-07, 1.65407581e-05, 1.43584885e-05,\n",
       "         6.21541048e-06],\n",
       "        [1.23889539e-05, 5.83198311e-06, 2.02898093e-06, 2.26161653e-06,\n",
       "         8.65530557e-06],\n",
       "        [1.79660837e-06, 8.57752466e-06, 4.55316163e-06, 2.35809624e-06,\n",
       "         1.43360309e-05],\n",
       "        [1.36278342e-06, 1.39578253e-06, 1.89471245e-06, 1.14481769e-06,\n",
       "         2.75531549e-06],\n",
       "        [2.16553743e-06, 7.38832518e-07, 1.35581073e-06, 7.66143525e-07,\n",
       "         8.85053480e-07],\n",
       "        [3.94284991e-07, 1.72405350e-07, 1.53312736e-09, 5.50527797e-07,\n",
       "         1.01792278e-06],\n",
       "        [6.05268706e-08, 5.40594276e-08, 5.86423584e-07, 1.19750256e-06,\n",
       "         1.03819049e-07],\n",
       "        [1.49295232e-07, 3.90336871e-08, 1.18428176e-07, 1.24198328e-06,\n",
       "         2.35201427e-07],\n",
       "        [1.14396508e-07, 1.46548731e-07, 1.45407938e-09, 2.43840153e-07,\n",
       "         3.10554197e-07],\n",
       "        [1.45637794e-07, 2.30995095e-07, 2.44321240e-08, 1.50891369e-08,\n",
       "         7.79728279e-09],\n",
       "        [2.61850231e-08, 1.35513006e-07, 5.83749666e-09, 4.65892826e-08,\n",
       "         2.77345472e-08],\n",
       "        [7.84258765e-09, 9.58187762e-08, 5.75980188e-08, 1.49964246e-08,\n",
       "         1.04236296e-07],\n",
       "        [1.32732913e-08, 7.16195854e-08, 3.67517649e-08, 6.08394363e-09,\n",
       "         5.48906044e-09]]),\n",
       " array([0.       , 0.0078125, 0.015625 , 0.0234375, 0.03125  , 0.0390625,\n",
       "        0.046875 , 0.0546875, 0.0625   , 0.0703125, 0.078125 , 0.0859375,\n",
       "        0.09375  , 0.1015625, 0.109375 , 0.1171875, 0.125    , 0.1328125,\n",
       "        0.140625 , 0.1484375, 0.15625  , 0.1640625, 0.171875 , 0.1796875,\n",
       "        0.1875   , 0.1953125, 0.203125 , 0.2109375, 0.21875  , 0.2265625,\n",
       "        0.234375 , 0.2421875, 0.25     , 0.2578125, 0.265625 , 0.2734375,\n",
       "        0.28125  , 0.2890625, 0.296875 , 0.3046875, 0.3125   , 0.3203125,\n",
       "        0.328125 , 0.3359375, 0.34375  , 0.3515625, 0.359375 , 0.3671875,\n",
       "        0.375    , 0.3828125, 0.390625 , 0.3984375, 0.40625  , 0.4140625,\n",
       "        0.421875 , 0.4296875, 0.4375   , 0.4453125, 0.453125 , 0.4609375,\n",
       "        0.46875  , 0.4765625, 0.484375 , 0.4921875, 0.5      , 0.5078125,\n",
       "        0.515625 , 0.5234375, 0.53125  , 0.5390625, 0.546875 , 0.5546875,\n",
       "        0.5625   , 0.5703125, 0.578125 , 0.5859375, 0.59375  , 0.6015625,\n",
       "        0.609375 , 0.6171875, 0.625    , 0.6328125, 0.640625 , 0.6484375,\n",
       "        0.65625  , 0.6640625, 0.671875 , 0.6796875, 0.6875   , 0.6953125,\n",
       "        0.703125 , 0.7109375, 0.71875  , 0.7265625, 0.734375 , 0.7421875,\n",
       "        0.75     , 0.7578125, 0.765625 , 0.7734375, 0.78125  , 0.7890625,\n",
       "        0.796875 , 0.8046875, 0.8125   , 0.8203125, 0.828125 , 0.8359375,\n",
       "        0.84375  , 0.8515625, 0.859375 , 0.8671875, 0.875    , 0.8828125,\n",
       "        0.890625 , 0.8984375, 0.90625  , 0.9140625, 0.921875 , 0.9296875,\n",
       "        0.9375   , 0.9453125, 0.953125 , 0.9609375, 0.96875  , 0.9765625,\n",
       "        0.984375 , 0.9921875, 1.       ]),\n",
       " array([ 64., 128., 192., 256., 320.]),\n",
       " <matplotlib.image.AxesImage at 0x7fe045a8a748>)"
      ]
     },
     "execution_count": 151,
     "metadata": {},
     "output_type": "execute_result"
    },
    {
     "data": {
      "image/png": "[encoded data removed]",
      "text/plain": [
       "<Figure size 432x288 with 1 Axes>"
      ]
     },
     "metadata": {
      "needs_background": "light"
     },
     "output_type": "display_data"
    }
   ],
   "source": [
    "plt.specgram(sample, NFFT=256, Fs=2)"
   ]
  },
  {
   "cell_type": "code",
   "execution_count": 59,
   "metadata": {},
   "outputs": [],
   "source": [
    "import librosa\n"
   ]
  },
  {
   "cell_type": "code",
   "execution_count": 109,
   "metadata": {},
   "outputs": [
    {
     "name": "stderr",
     "output_type": "stream",
     "text": [
      "/Library/Frameworks/Python.framework/Versions/3.7/lib/python3.7/site-packages/librosa/core/spectrum.py:224: UserWarning: n_fft=2048 is too small for input signal of length=800\n",
      "  n_fft, y.shape[-1]\n"
     ]
    }
   ],
   "source": [
    "stft_result = librosa.stft(sample)\n",
    "abs_result = np.abs(stft_result)\n",
    "power_spec = librosa.amplitude_to_db(abs_result, ref=np.max)"
   ]
  },
  {
   "cell_type": "code",
   "execution_count": 152,
   "metadata": {},
   "outputs": [
    {
     "ename": "AttributeError",
     "evalue": "module 'librosa' has no attribute 'dispplay'",
     "output_type": "error",
     "traceback": [
      "\u001b[0;31m---------------------------------------------------------------------------\u001b[0m",
      "\u001b[0;31mAttributeError\u001b[0m                            Traceback (most recent call last)",
      "\u001b[0;32m<ipython-input-152-5ccdecb353b3>\u001b[0m in \u001b[0;36m<module>\u001b[0;34m\u001b[0m\n\u001b[1;32m      1\u001b[0m \u001b[0mplt\u001b[0m\u001b[0;34m.\u001b[0m\u001b[0mfigure\u001b[0m\u001b[0;34m(\u001b[0m\u001b[0mfigsize\u001b[0m\u001b[0;34m=\u001b[0m\u001b[0;34m(\u001b[0m\u001b[0;36m25\u001b[0m\u001b[0;34m,\u001b[0m\u001b[0;36m5\u001b[0m\u001b[0;34m)\u001b[0m\u001b[0;34m)\u001b[0m\u001b[0;34m\u001b[0m\u001b[0;34m\u001b[0m\u001b[0m\n\u001b[0;32m----> 2\u001b[0;31m \u001b[0mlibrosa\u001b[0m\u001b[0;34m.\u001b[0m\u001b[0mdispplay\u001b[0m\u001b[0;34m.\u001b[0m\u001b[0mspecshow\u001b[0m\u001b[0;34m(\u001b[0m\u001b[0mpower_spec\u001b[0m\u001b[0;34m,\u001b[0m \u001b[0my_axis\u001b[0m\u001b[0;34m=\u001b[0m\u001b[0;34m'log'\u001b[0m\u001b[0;34m,\u001b[0m \u001b[0mx_axis\u001b[0m\u001b[0;34m=\u001b[0m\u001b[0;34m'time'\u001b[0m\u001b[0;34m,\u001b[0m \u001b[0msr\u001b[0m \u001b[0;34m=\u001b[0m \u001b[0msr\u001b[0m\u001b[0;34m)\u001b[0m\u001b[0;34m\u001b[0m\u001b[0;34m\u001b[0m\u001b[0m\n\u001b[0m\u001b[1;32m      3\u001b[0m \u001b[0mplt\u001b[0m\u001b[0;34m.\u001b[0m\u001b[0mtitle\u001b[0m\u001b[0;34m(\u001b[0m\u001b[0;34m'Power Spectrogram'\u001b[0m\u001b[0;34m)\u001b[0m\u001b[0;34m\u001b[0m\u001b[0;34m\u001b[0m\u001b[0m\n\u001b[1;32m      4\u001b[0m \u001b[0mplt\u001b[0m\u001b[0;34m.\u001b[0m\u001b[0mcolorbar\u001b[0m\u001b[0;34m(\u001b[0m\u001b[0mformat\u001b[0m\u001b[0;34m=\u001b[0m\u001b[0;34m'%+2.0f dB'\u001b[0m\u001b[0;34m)\u001b[0m\u001b[0;34m\u001b[0m\u001b[0;34m\u001b[0m\u001b[0m\n\u001b[1;32m      5\u001b[0m \u001b[0;34m\u001b[0m\u001b[0m\n",
      "\u001b[0;31mAttributeError\u001b[0m: module 'librosa' has no attribute 'dispplay'"
     ]
    },
    {
     "data": {
      "text/plain": [
       "<Figure size 1800x360 with 0 Axes>"
      ]
     },
     "metadata": {},
     "output_type": "display_data"
    }
   ],
   "source": [
    "plt.figure(figsize=(25,5))\n",
    "librosa.dispplay.specshow(power_spec, y_axis='log', x_axis='time', sr = sr)\n",
    "plt.title('Power Spectrogram')\n",
    "plt.colorbar(format='%+2.0f dB')\n",
    "\n",
    "plt.tight_layout()\n",
    "plt.show()"
   ]
  },
  {
   "cell_type": "code",
   "execution_count": 108,
   "metadata": {},
   "outputs": [
    {
     "data": {
      "text/plain": [
       "<matplotlib.image.AxesImage at 0x7fe03e77efd0>"
      ]
     },
     "execution_count": 108,
     "metadata": {},
     "output_type": "execute_result"
    },
    {
     "data": {
      "image/png": "[encoded data removed]",
      "text/plain": [
       "<Figure size 432x288 with 1 Axes>"
      ]
     },
     "metadata": {
      "needs_background": "light"
     },
     "output_type": "display_data"
    }
   ],
   "source": [
    "plt.imshow(mel)"
   ]
  },
  {
   "cell_type": "code",
   "execution_count": null,
   "metadata": {},
   "outputs": [],
   "source": []
  }
 ],
 "metadata": {
  "kernelspec": {
   "display_name": "Python 3",
   "language": "python",
   "name": "python3"
  },
  "language_info": {
   "codemirror_mode": {
    "name": "ipython",
    "version": 3
   },
   "file_extension": ".py",
   "mimetype": "text/x-python",
   "name": "python",
   "nbconvert_exporter": "python",
   "pygments_lexer": "ipython3",
   "version": "3.7.2"
  },
  "widgets": {
   "application/vnd.jupyter.widget-state+json": {
    "state": {},
    "version_major": 2,
    "version_minor": 0
   }
  }
 },
 "nbformat": 4,
 "nbformat_minor": 4
}
